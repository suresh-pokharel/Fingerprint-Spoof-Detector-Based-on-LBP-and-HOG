{
 "cells": [
  {
   "cell_type": "code",
   "execution_count": 50,
   "metadata": {
    "scrolled": true
   },
   "outputs": [],
   "source": [
    "import matplotlib.pyplot as plt\n",
    "from skimage.io import imread\n",
    "from skimage.feature import hog,local_binary_pattern\n",
    "import glob\n",
    "import numpy as np\n",
    "from sklearn import svm\n",
    "from skimage import feature\n",
    "from sklearn.metrics import classification_report\n",
    "from skimage.color import rgb2gray"
   ]
  },
  {
   "cell_type": "code",
   "execution_count": 51,
   "metadata": {},
   "outputs": [],
   "source": [
    "# import training data\n",
    "live_train = glob.glob('data/train_live/*.png') #positive\n",
    "spoof_train = glob.glob('data/train_spoof/*.png') # negative\n",
    "\n",
    "# import testing data\n",
    "live_test = glob.glob('data/test_live/*.png') # positive\n",
    "spoof_test = glob.glob('data/test_spoof/*.png') # negative"
   ]
  },
  {
   "cell_type": "code",
   "execution_count": 52,
   "metadata": {},
   "outputs": [],
   "source": [
    "# initialize empty lists to append data\n",
    "live_train_images = []\n",
    "spoof_train_images = []\n",
    "live_test_images = []\n",
    "spoof_test_images = []\n",
    "\n",
    "# read images from given path and append to the variavles\n",
    "for path in live_train: live_train_images.append(imread(path))\n",
    "for path in spoof_train: spoof_train_images.append(imread(path))\n",
    "for path in live_test: live_test_images.append(imread(path))\n",
    "for path in spoof_test: spoof_test_images.append(imread(path))"
   ]
  },
  {
   "cell_type": "code",
   "execution_count": 53,
   "metadata": {},
   "outputs": [],
   "source": [
    "# convert images to np arrays\n",
    "live_train_images, spoof_train_images = np.asarray(live_train_images), np.asarray(spoof_train_images)\n",
    "live_test_images, spoof_test_images = np.asarray(live_test_images), np.asarray(spoof_test_images)"
   ]
  },
  {
   "cell_type": "code",
   "execution_count": 54,
   "metadata": {},
   "outputs": [],
   "source": [
    "# change the type of feature you want to use here\n",
    "feature_type = \"lbp\" #hog or lbp\n",
    "\n",
    "# initialize empty lists to append features\n",
    "live_train_features, spoof_train_features = [], []\n",
    "live_test_features, spoof_test_features = [], []\n",
    "\n",
    "if(feature_type == \"hog\"):\n",
    "    \n",
    "    # calculate and store hog features of training data\n",
    "    for live_img, spoof_img in zip(live_train_images, spoof_train_images):\n",
    "        live_train_features.append(hog(live_img, feature_vector = True))\n",
    "        spoof_train_features.append(hog(spoof_img, feature_vector = True))\n",
    "    \n",
    "    # calculate and store hog features of testing data\n",
    "    for live_img, spoof_img in zip(live_test_images, spoof_test_images):\n",
    "        live_test_features.append(hog(live_img, feature_vector = True))\n",
    "        spoof_test_features.append(hog(spoof_img, feature_vector = True))\n",
    "        \n",
    "if(feature_type == \"lbp\"):\n",
    "\n",
    "# parameters copied from scikit docs of lbp\n",
    "    METHOD = 'uniform'\n",
    "    R = 3\n",
    "    P = 8 * R\n",
    "\n",
    "    # calculate and store lbp features of training data\n",
    "    for live_img, spoof_img in zip(live_train_images, spoof_train_images):\n",
    "        live_img = rgb2gray(live_img)\n",
    "        spoof_img = rgb2gray(spoof_img)\n",
    "        live_train_features.append(local_binary_pattern(live_img, P, R, METHOD).flatten())\n",
    "        spoof_train_features.append(local_binary_pattern(spoof_img, P, R, METHOD).flatten())\n",
    "    \n",
    "    # calculate and store lbp features of training data   \n",
    "    for live_img, spoof_img in zip(live_test_images, spoof_test_images):\n",
    "        # convert rgb to gray\n",
    "        live_img = rgb2gray(live_img)\n",
    "        # convert rgb to gray\n",
    "        spoof_img = rgb2gray(spoof_img)\n",
    "        live_test_features.append(local_binary_pattern(live_img, P, R, METHOD).flatten())\n",
    "        spoof_test_features.append(local_binary_pattern(spoof_img, P, R, METHOD).flatten())"
   ]
  },
  {
   "cell_type": "code",
   "execution_count": 55,
   "metadata": {},
   "outputs": [],
   "source": [
    "# define labels 1 for live and 0 for spoof\n",
    "# i.e. create a list of 200 1's and 200 0's \n",
    "labels_train = [[1]]*len(live_train_features) + [[0]]*len(spoof_train_features)\n",
    "\n",
    "# merge both positive and negative training data\n",
    "full_train = live_train_features + spoof_train_features\n",
    "\n",
    "# assign labels for all test data, 1 for positive, 0 for negative\n",
    "labels_test = [[1]]*len(live_test_features) + [[0]]*len(spoof_test_features)\n",
    "\n",
    "# merge both positive and negative training data\n",
    "full_test = live_test_features + spoof_test_features\n"
   ]
  },
  {
   "cell_type": "code",
   "execution_count": 56,
   "metadata": {},
   "outputs": [
    {
     "data": {
      "text/plain": [
       "400"
      ]
     },
     "execution_count": 56,
     "metadata": {},
     "output_type": "execute_result"
    }
   ],
   "source": [
    "len(labels_train)"
   ]
  },
  {
   "cell_type": "code",
   "execution_count": 57,
   "metadata": {},
   "outputs": [],
   "source": [
    "clf = svm.SVC()\n",
    "features_train = np.array(full_train)\n",
    "features_test = np.array(full_test)\n",
    "\n",
    "# stack features and labels together\n",
    "data_frame_train = np.hstack((features_train,labels_train))\n",
    "\n",
    "# shuffle train data\n",
    "np.random.shuffle(data_frame_train)"
   ]
  },
  {
   "cell_type": "code",
   "execution_count": 58,
   "metadata": {},
   "outputs": [],
   "source": [
    "# split features and labels of train data\n",
    "x_train = data_frame_train[:len(data_frame_train),:-1]\n",
    "y_train = data_frame_train[:len(data_frame_train),-1]\n",
    "\n",
    "# ready test data and labels\n",
    "x_test = features_test\n",
    "y_test = labels_test"
   ]
  },
  {
   "cell_type": "code",
   "execution_count": 59,
   "metadata": {},
   "outputs": [
    {
     "data": {
      "text/plain": [
       "SVC()"
      ]
     },
     "execution_count": 59,
     "metadata": {},
     "output_type": "execute_result"
    }
   ],
   "source": [
    "# fit the model with train set\n",
    "clf.fit(x_train,y_train)"
   ]
  },
  {
   "cell_type": "code",
   "execution_count": 60,
   "metadata": {},
   "outputs": [],
   "source": [
    "# predict labels: y_pred from x_test\n",
    "y_pred = clf.predict(x_test)"
   ]
  },
  {
   "cell_type": "code",
   "execution_count": 48,
   "metadata": {},
   "outputs": [
    {
     "name": "stdout",
     "output_type": "stream",
     "text": [
      "              precision    recall  f1-score   support\n",
      "\n",
      "           0       0.79      0.94      0.86       200\n",
      "           1       0.93      0.74      0.83       200\n",
      "\n",
      "    accuracy                           0.84       400\n",
      "   macro avg       0.86      0.84      0.84       400\n",
      "weighted avg       0.86      0.84      0.84       400\n",
      "\n"
     ]
    }
   ],
   "source": [
    "# calculate other metrics\n",
    "print(classification_report(y_test, y_pred))\n",
    "\n",
    "# hog: (0.859375, 0.845, 0.8434343434343435, None)\n",
    "# lbp: (0.9303430011968119, 0.9225, 0.9221452744065148, None)"
   ]
  },
  {
   "cell_type": "code",
   "execution_count": 61,
   "metadata": {},
   "outputs": [
    {
     "name": "stdout",
     "output_type": "stream",
     "text": [
      "              precision    recall  f1-score   support\n",
      "\n",
      "           0       0.87      0.99      0.93       200\n",
      "           1       0.99      0.85      0.92       200\n",
      "\n",
      "    accuracy                           0.92       400\n",
      "   macro avg       0.93      0.92      0.92       400\n",
      "weighted avg       0.93      0.92      0.92       400\n",
      "\n"
     ]
    }
   ],
   "source": [
    "print(classification_report(y_test, y_pred))"
   ]
  },
  {
   "cell_type": "code",
   "execution_count": null,
   "metadata": {},
   "outputs": [],
   "source": []
  }
 ],
 "metadata": {
  "kernelspec": {
   "display_name": "Python 3",
   "language": "python",
   "name": "python3"
  },
  "language_info": {
   "codemirror_mode": {
    "name": "ipython",
    "version": 3
   },
   "file_extension": ".py",
   "mimetype": "text/x-python",
   "name": "python",
   "nbconvert_exporter": "python",
   "pygments_lexer": "ipython3",
   "version": "3.8.5"
  }
 },
 "nbformat": 4,
 "nbformat_minor": 2
}
